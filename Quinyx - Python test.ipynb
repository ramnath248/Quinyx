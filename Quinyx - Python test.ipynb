{
 "cells": [
  {
   "cell_type": "markdown",
   "metadata": {},
   "source": [
    "###### From the problem, it seems like we might need to predict a continuous variable from a set of other independent variables. "
   ]
  },
  {
   "cell_type": "markdown",
   "metadata": {},
   "source": [
    "Before jumping into the aspect of solving the problem through a predictive model, it is necessary to understand the purpose of the model from the client and the reason behind it. Further, it is important to understand who the end user is for this predictions. Is it the manager or the client itself?\n",
    "\n",
    "From that point, how the client has been currently doing it is required for us to compare or benchmark something with. If the pointed model does not contribute towards the betterment, it would always be better to shed the energy and resources to other projects where there would be a better ROI.\n",
    "\n",
    "In addition, the main aim for utilising this model from the client's business context is to be understood so as to analyse how the model accuracy impact the business metric. \n",
    "\n",
    "Assuming that these decisions have been taken care off and we have a better ROI for both client and our company, the analysis and modelling has been carried out."
   ]
  },
  {
   "cell_type": "code",
   "execution_count": 40,
   "metadata": {},
   "outputs": [],
   "source": [
    "import pandas as pd\n",
    "import numpy as np\n",
    "import seaborn as sns\n",
    "import matplotlib.pyplot as plt\n",
    "from sklearn import linear_model\n",
    "from sklearn.model_selection import train_test_split\n",
    "from sklearn.metrics import r2_score"
   ]
  },
  {
   "cell_type": "code",
   "execution_count": 17,
   "metadata": {},
   "outputs": [],
   "source": [
    "df = pd.read_csv(\"/Users/admin/Downloads/wb-data-science-test/VesselData.csv\")"
   ]
  },
  {
   "cell_type": "code",
   "execution_count": 18,
   "metadata": {},
   "outputs": [
    {
     "data": {
      "text/html": [
       "<div>\n",
       "<style scoped>\n",
       "    .dataframe tbody tr th:only-of-type {\n",
       "        vertical-align: middle;\n",
       "    }\n",
       "\n",
       "    .dataframe tbody tr th {\n",
       "        vertical-align: top;\n",
       "    }\n",
       "\n",
       "    .dataframe thead th {\n",
       "        text-align: right;\n",
       "    }\n",
       "</style>\n",
       "<table border=\"1\" class=\"dataframe\">\n",
       "  <thead>\n",
       "    <tr style=\"text-align: right;\">\n",
       "      <th></th>\n",
       "      <th>eta</th>\n",
       "      <th>ata</th>\n",
       "      <th>atd</th>\n",
       "      <th>vesseldwt</th>\n",
       "      <th>vesseltype</th>\n",
       "      <th>discharge1</th>\n",
       "      <th>load1</th>\n",
       "      <th>discharge2</th>\n",
       "      <th>load2</th>\n",
       "      <th>discharge3</th>\n",
       "      <th>...</th>\n",
       "      <th>load4</th>\n",
       "      <th>stevedorenames</th>\n",
       "      <th>hasnohamis</th>\n",
       "      <th>earliesteta</th>\n",
       "      <th>latesteta</th>\n",
       "      <th>traveltype</th>\n",
       "      <th>previousportid</th>\n",
       "      <th>nextportid</th>\n",
       "      <th>isremarkable</th>\n",
       "      <th>vesselid</th>\n",
       "    </tr>\n",
       "  </thead>\n",
       "  <tbody>\n",
       "    <tr>\n",
       "      <th>0</th>\n",
       "      <td>2017-09-19 00:00:00+00</td>\n",
       "      <td>2017-09-19 00:00:00+00</td>\n",
       "      <td>2017-09-22 00:00:00+00</td>\n",
       "      <td>109290.0</td>\n",
       "      <td>5</td>\n",
       "      <td>0</td>\n",
       "      <td>0</td>\n",
       "      <td>0</td>\n",
       "      <td>0</td>\n",
       "      <td>90173</td>\n",
       "      <td>...</td>\n",
       "      <td>0</td>\n",
       "      <td>Stevedore_104</td>\n",
       "      <td>NaN</td>\n",
       "      <td>2017-09-19 00:00:00+00</td>\n",
       "      <td>2017-09-19 00:00:00+00</td>\n",
       "      <td>ARRIVAL</td>\n",
       "      <td>981</td>\n",
       "      <td>731</td>\n",
       "      <td>f</td>\n",
       "      <td>2242</td>\n",
       "    </tr>\n",
       "    <tr>\n",
       "      <th>1</th>\n",
       "      <td>2017-10-02 00:00:00+00</td>\n",
       "      <td>2017-10-02 00:00:00+00</td>\n",
       "      <td>2017-10-03 00:00:00+00</td>\n",
       "      <td>67170.0</td>\n",
       "      <td>3</td>\n",
       "      <td>0</td>\n",
       "      <td>0</td>\n",
       "      <td>0</td>\n",
       "      <td>0</td>\n",
       "      <td>0</td>\n",
       "      <td>...</td>\n",
       "      <td>0</td>\n",
       "      <td>Stevedore_109</td>\n",
       "      <td>NaN</td>\n",
       "      <td>2017-10-02 00:00:00+00</td>\n",
       "      <td>2017-10-02 00:00:00+00</td>\n",
       "      <td>ARRIVAL</td>\n",
       "      <td>19</td>\n",
       "      <td>15</td>\n",
       "      <td>f</td>\n",
       "      <td>5462</td>\n",
       "    </tr>\n",
       "    <tr>\n",
       "      <th>2</th>\n",
       "      <td>2017-09-30 00:00:00+00</td>\n",
       "      <td>2017-09-30 00:00:00+00</td>\n",
       "      <td>2017-10-01 00:00:00+00</td>\n",
       "      <td>67737.0</td>\n",
       "      <td>3</td>\n",
       "      <td>0</td>\n",
       "      <td>0</td>\n",
       "      <td>0</td>\n",
       "      <td>0</td>\n",
       "      <td>0</td>\n",
       "      <td>...</td>\n",
       "      <td>0</td>\n",
       "      <td>Stevedore_57</td>\n",
       "      <td>NaN</td>\n",
       "      <td>2017-09-30 00:00:00+00</td>\n",
       "      <td>2017-09-30 00:00:00+00</td>\n",
       "      <td>ARRIVAL</td>\n",
       "      <td>19</td>\n",
       "      <td>19</td>\n",
       "      <td>f</td>\n",
       "      <td>5251</td>\n",
       "    </tr>\n",
       "    <tr>\n",
       "      <th>3</th>\n",
       "      <td>2017-10-02 00:00:00+00</td>\n",
       "      <td>2017-10-02 00:00:00+00</td>\n",
       "      <td>2017-10-03 00:00:00+00</td>\n",
       "      <td>43600.0</td>\n",
       "      <td>3</td>\n",
       "      <td>0</td>\n",
       "      <td>0</td>\n",
       "      <td>0</td>\n",
       "      <td>0</td>\n",
       "      <td>0</td>\n",
       "      <td>...</td>\n",
       "      <td>0</td>\n",
       "      <td>Stevedore_57</td>\n",
       "      <td>NaN</td>\n",
       "      <td>2017-10-02 00:00:00+00</td>\n",
       "      <td>2017-10-02 00:00:00+00</td>\n",
       "      <td>ARRIVAL</td>\n",
       "      <td>15</td>\n",
       "      <td>18</td>\n",
       "      <td>f</td>\n",
       "      <td>5268</td>\n",
       "    </tr>\n",
       "    <tr>\n",
       "      <th>4</th>\n",
       "      <td>2017-10-02 00:00:00+00</td>\n",
       "      <td>2017-10-02 00:00:00+00</td>\n",
       "      <td>2017-10-02 00:00:00+00</td>\n",
       "      <td>9231.0</td>\n",
       "      <td>3</td>\n",
       "      <td>0</td>\n",
       "      <td>0</td>\n",
       "      <td>0</td>\n",
       "      <td>0</td>\n",
       "      <td>0</td>\n",
       "      <td>...</td>\n",
       "      <td>0</td>\n",
       "      <td>Stevedore_98</td>\n",
       "      <td>NaN</td>\n",
       "      <td>2017-10-02 00:00:00+00</td>\n",
       "      <td>2017-10-02 00:00:00+00</td>\n",
       "      <td>ARRIVAL</td>\n",
       "      <td>74</td>\n",
       "      <td>27</td>\n",
       "      <td>f</td>\n",
       "      <td>5504</td>\n",
       "    </tr>\n",
       "  </tbody>\n",
       "</table>\n",
       "<p>5 rows × 22 columns</p>\n",
       "</div>"
      ],
      "text/plain": [
       "                      eta                     ata                     atd  \\\n",
       "0  2017-09-19 00:00:00+00  2017-09-19 00:00:00+00  2017-09-22 00:00:00+00   \n",
       "1  2017-10-02 00:00:00+00  2017-10-02 00:00:00+00  2017-10-03 00:00:00+00   \n",
       "2  2017-09-30 00:00:00+00  2017-09-30 00:00:00+00  2017-10-01 00:00:00+00   \n",
       "3  2017-10-02 00:00:00+00  2017-10-02 00:00:00+00  2017-10-03 00:00:00+00   \n",
       "4  2017-10-02 00:00:00+00  2017-10-02 00:00:00+00  2017-10-02 00:00:00+00   \n",
       "\n",
       "   vesseldwt  vesseltype  discharge1  load1  discharge2  load2  discharge3  \\\n",
       "0   109290.0           5           0      0           0      0       90173   \n",
       "1    67170.0           3           0      0           0      0           0   \n",
       "2    67737.0           3           0      0           0      0           0   \n",
       "3    43600.0           3           0      0           0      0           0   \n",
       "4     9231.0           3           0      0           0      0           0   \n",
       "\n",
       "   ...  load4  stevedorenames  hasnohamis             earliesteta  \\\n",
       "0  ...      0   Stevedore_104         NaN  2017-09-19 00:00:00+00   \n",
       "1  ...      0   Stevedore_109         NaN  2017-10-02 00:00:00+00   \n",
       "2  ...      0    Stevedore_57         NaN  2017-09-30 00:00:00+00   \n",
       "3  ...      0    Stevedore_57         NaN  2017-10-02 00:00:00+00   \n",
       "4  ...      0    Stevedore_98         NaN  2017-10-02 00:00:00+00   \n",
       "\n",
       "                latesteta traveltype previousportid nextportid  isremarkable  \\\n",
       "0  2017-09-19 00:00:00+00    ARRIVAL            981        731             f   \n",
       "1  2017-10-02 00:00:00+00    ARRIVAL             19         15             f   \n",
       "2  2017-09-30 00:00:00+00    ARRIVAL             19         19             f   \n",
       "3  2017-10-02 00:00:00+00    ARRIVAL             15         18             f   \n",
       "4  2017-10-02 00:00:00+00    ARRIVAL             74         27             f   \n",
       "\n",
       "   vesselid  \n",
       "0      2242  \n",
       "1      5462  \n",
       "2      5251  \n",
       "3      5268  \n",
       "4      5504  \n",
       "\n",
       "[5 rows x 22 columns]"
      ]
     },
     "execution_count": 18,
     "metadata": {},
     "output_type": "execute_result"
    }
   ],
   "source": [
    "df.head()"
   ]
  },
  {
   "cell_type": "markdown",
   "metadata": {},
   "source": [
    "Labelling of numbers associated with discharge and load\n",
    "* 1 - Ore\n",
    "* 2 - Coal\n",
    "* 3 - Oil\n",
    "* 4 - Petroleum"
   ]
  },
  {
   "cell_type": "code",
   "execution_count": 19,
   "metadata": {},
   "outputs": [
    {
     "name": "stdout",
     "output_type": "stream",
     "text": [
      "<class 'pandas.core.frame.DataFrame'>\n",
      "RangeIndex: 8208 entries, 0 to 8207\n",
      "Data columns (total 22 columns):\n",
      " #   Column          Non-Null Count  Dtype  \n",
      "---  ------          --------------  -----  \n",
      " 0   eta             8208 non-null   object \n",
      " 1   ata             8208 non-null   object \n",
      " 2   atd             8208 non-null   object \n",
      " 3   vesseldwt       8206 non-null   float64\n",
      " 4   vesseltype      8208 non-null   int64  \n",
      " 5   discharge1      8208 non-null   int64  \n",
      " 6   load1           8208 non-null   int64  \n",
      " 7   discharge2      8208 non-null   int64  \n",
      " 8   load2           8208 non-null   int64  \n",
      " 9   discharge3      8208 non-null   int64  \n",
      " 10  load3           8208 non-null   int64  \n",
      " 11  discharge4      8208 non-null   int64  \n",
      " 12  load4           8208 non-null   int64  \n",
      " 13  stevedorenames  8206 non-null   object \n",
      " 14  hasnohamis      0 non-null      float64\n",
      " 15  earliesteta     8208 non-null   object \n",
      " 16  latesteta       8208 non-null   object \n",
      " 17  traveltype      8208 non-null   object \n",
      " 18  previousportid  8208 non-null   int64  \n",
      " 19  nextportid      8208 non-null   int64  \n",
      " 20  isremarkable    8208 non-null   object \n",
      " 21  vesselid        8208 non-null   int64  \n",
      "dtypes: float64(2), int64(12), object(8)\n",
      "memory usage: 1.4+ MB\n"
     ]
    }
   ],
   "source": [
    "df.info()"
   ]
  },
  {
   "cell_type": "markdown",
   "metadata": {},
   "source": [
    "From a ML model perspective, 8000 values seems to be pretty low for the model to have a high accuracy. We could potentially as our client with more data for getting higher accuracy. Or it is necessary for us to inform the ability of the predictions could relatively be low at the start and would increase with more data. "
   ]
  },
  {
   "cell_type": "markdown",
   "metadata": {},
   "source": [
    "hasnohamis column could be seen to have 0 non null values and hence could be removed from the data set"
   ]
  },
  {
   "cell_type": "code",
   "execution_count": 20,
   "metadata": {},
   "outputs": [],
   "source": [
    "df = df.drop(['hasnohamis'], axis=1)"
   ]
  },
  {
   "cell_type": "markdown",
   "metadata": {},
   "source": [
    "Date types are objects and hence converting them to date time"
   ]
  },
  {
   "cell_type": "code",
   "execution_count": 21,
   "metadata": {},
   "outputs": [],
   "source": [
    "df['eta'] =  pd.to_datetime(df['eta'])\n",
    "df['ata'] =  pd.to_datetime(df['ata'])\n",
    "df['atd'] =  pd.to_datetime(df['atd'])\n",
    "df['earliesteta'] =  pd.to_datetime(df['earliesteta'])\n",
    "df['latesteta'] =  pd.to_datetime(df['latesteta'])"
   ]
  },
  {
   "cell_type": "markdown",
   "metadata": {},
   "source": [
    "Finding the value counts of different variables and could convert from int to categorical"
   ]
  },
  {
   "cell_type": "code",
   "execution_count": 22,
   "metadata": {},
   "outputs": [
    {
     "data": {
      "text/plain": [
       "3    5175\n",
       "5    2621\n",
       "2     387\n",
       "4      23\n",
       "1       2\n",
       "Name: vesseltype, dtype: int64"
      ]
     },
     "execution_count": 22,
     "metadata": {},
     "output_type": "execute_result"
    }
   ],
   "source": [
    "df['vesseltype'].value_counts()"
   ]
  },
  {
   "cell_type": "code",
   "execution_count": 26,
   "metadata": {},
   "outputs": [
    {
     "data": {
      "text/plain": [
       "ARRIVAL    5947\n",
       "SHIFT      2261\n",
       "Name: traveltype, dtype: int64"
      ]
     },
     "execution_count": 26,
     "metadata": {},
     "output_type": "execute_result"
    }
   ],
   "source": [
    "df['traveltype'].value_counts()"
   ]
  },
  {
   "cell_type": "markdown",
   "metadata": {},
   "source": [
    "# Converting int to categorical variables"
   ]
  },
  {
   "cell_type": "code",
   "execution_count": 28,
   "metadata": {},
   "outputs": [],
   "source": [
    "df['traveltype']=df['traveltype'].replace({'ARRIVAL': 0, 'SHIFT': 1})"
   ]
  },
  {
   "cell_type": "code",
   "execution_count": 31,
   "metadata": {},
   "outputs": [],
   "source": [
    "df[['vesseltype','traveltype']]=df[['vesseltype','traveltype']].astype('category')"
   ]
  },
  {
   "cell_type": "markdown",
   "metadata": {},
   "source": [
    "# Data analysis to analyse potential patterns within existing data"
   ]
  },
  {
   "cell_type": "markdown",
   "metadata": {},
   "source": [
    "Data analysis is carried out here so as to find potential patterns. If exists, new features could be built to make the model more robust. Further, more group_by and value_counts could be used here."
   ]
  },
  {
   "cell_type": "markdown",
   "metadata": {},
   "source": [
    "##### Using groupby and value counts"
   ]
  },
  {
   "cell_type": "code",
   "execution_count": 32,
   "metadata": {},
   "outputs": [
    {
     "data": {
      "text/html": [
       "<div>\n",
       "<style scoped>\n",
       "    .dataframe tbody tr th:only-of-type {\n",
       "        vertical-align: middle;\n",
       "    }\n",
       "\n",
       "    .dataframe tbody tr th {\n",
       "        vertical-align: top;\n",
       "    }\n",
       "\n",
       "    .dataframe thead th {\n",
       "        text-align: right;\n",
       "    }\n",
       "</style>\n",
       "<table border=\"1\" class=\"dataframe\">\n",
       "  <thead>\n",
       "    <tr style=\"text-align: right;\">\n",
       "      <th></th>\n",
       "      <th>vesseldwt</th>\n",
       "      <th>discharge1</th>\n",
       "      <th>load1</th>\n",
       "      <th>discharge2</th>\n",
       "      <th>load2</th>\n",
       "      <th>discharge3</th>\n",
       "      <th>load3</th>\n",
       "      <th>discharge4</th>\n",
       "      <th>load4</th>\n",
       "      <th>previousportid</th>\n",
       "      <th>nextportid</th>\n",
       "      <th>vesselid</th>\n",
       "    </tr>\n",
       "    <tr>\n",
       "      <th>vesseltype</th>\n",
       "      <th></th>\n",
       "      <th></th>\n",
       "      <th></th>\n",
       "      <th></th>\n",
       "      <th></th>\n",
       "      <th></th>\n",
       "      <th></th>\n",
       "      <th></th>\n",
       "      <th></th>\n",
       "      <th></th>\n",
       "      <th></th>\n",
       "      <th></th>\n",
       "    </tr>\n",
       "  </thead>\n",
       "  <tbody>\n",
       "    <tr>\n",
       "      <th>1</th>\n",
       "      <td>99984.00</td>\n",
       "      <td>0.00</td>\n",
       "      <td>0.00</td>\n",
       "      <td>0.00</td>\n",
       "      <td>0.00</td>\n",
       "      <td>0.00</td>\n",
       "      <td>0.00</td>\n",
       "      <td>0.00</td>\n",
       "      <td>0.00</td>\n",
       "      <td>882.00</td>\n",
       "      <td>35.50</td>\n",
       "      <td>7311.50</td>\n",
       "    </tr>\n",
       "    <tr>\n",
       "      <th>2</th>\n",
       "      <td>94697.27</td>\n",
       "      <td>36487.40</td>\n",
       "      <td>1000.55</td>\n",
       "      <td>24644.80</td>\n",
       "      <td>201.66</td>\n",
       "      <td>0.00</td>\n",
       "      <td>0.00</td>\n",
       "      <td>624.46</td>\n",
       "      <td>0.00</td>\n",
       "      <td>522.37</td>\n",
       "      <td>521.11</td>\n",
       "      <td>4538.86</td>\n",
       "    </tr>\n",
       "    <tr>\n",
       "      <th>3</th>\n",
       "      <td>33609.40</td>\n",
       "      <td>19.61</td>\n",
       "      <td>21.54</td>\n",
       "      <td>10.65</td>\n",
       "      <td>15.67</td>\n",
       "      <td>0.00</td>\n",
       "      <td>0.00</td>\n",
       "      <td>9.58</td>\n",
       "      <td>7.25</td>\n",
       "      <td>323.47</td>\n",
       "      <td>352.88</td>\n",
       "      <td>4568.89</td>\n",
       "    </tr>\n",
       "    <tr>\n",
       "      <th>4</th>\n",
       "      <td>58623.96</td>\n",
       "      <td>0.00</td>\n",
       "      <td>0.00</td>\n",
       "      <td>0.00</td>\n",
       "      <td>0.00</td>\n",
       "      <td>0.00</td>\n",
       "      <td>0.00</td>\n",
       "      <td>0.00</td>\n",
       "      <td>0.00</td>\n",
       "      <td>675.43</td>\n",
       "      <td>765.13</td>\n",
       "      <td>6420.74</td>\n",
       "    </tr>\n",
       "    <tr>\n",
       "      <th>5</th>\n",
       "      <td>37845.34</td>\n",
       "      <td>0.00</td>\n",
       "      <td>0.00</td>\n",
       "      <td>0.00</td>\n",
       "      <td>0.00</td>\n",
       "      <td>15004.67</td>\n",
       "      <td>140.13</td>\n",
       "      <td>5590.90</td>\n",
       "      <td>4711.47</td>\n",
       "      <td>427.24</td>\n",
       "      <td>409.56</td>\n",
       "      <td>3826.26</td>\n",
       "    </tr>\n",
       "  </tbody>\n",
       "</table>\n",
       "</div>"
      ],
      "text/plain": [
       "            vesseldwt  discharge1    load1  discharge2   load2  discharge3  \\\n",
       "vesseltype                                                                   \n",
       "1            99984.00        0.00     0.00        0.00    0.00        0.00   \n",
       "2            94697.27    36487.40  1000.55    24644.80  201.66        0.00   \n",
       "3            33609.40       19.61    21.54       10.65   15.67        0.00   \n",
       "4            58623.96        0.00     0.00        0.00    0.00        0.00   \n",
       "5            37845.34        0.00     0.00        0.00    0.00    15004.67   \n",
       "\n",
       "             load3  discharge4    load4  previousportid  nextportid  vesselid  \n",
       "vesseltype                                                                     \n",
       "1             0.00        0.00     0.00          882.00       35.50   7311.50  \n",
       "2             0.00      624.46     0.00          522.37      521.11   4538.86  \n",
       "3             0.00        9.58     7.25          323.47      352.88   4568.89  \n",
       "4             0.00        0.00     0.00          675.43      765.13   6420.74  \n",
       "5           140.13     5590.90  4711.47          427.24      409.56   3826.26  "
      ]
     },
     "execution_count": 32,
     "metadata": {},
     "output_type": "execute_result"
    }
   ],
   "source": [
    "round(df.groupby(['vesseltype']).mean(),2)"
   ]
  },
  {
   "cell_type": "markdown",
   "metadata": {},
   "source": [
    "It could be seen that vessel 2 has been functioning predominantly with ore and coal cargo types. While vessel 5 has been associated with oil and petroleum. Vessel 1 and 4 could be seen as vessels which does not load or discharge any cargo type in this port (could even be potentially dropped as they do not get discharged or loaded and the number of times they arrive is also quite limited compared to other vessels).\n",
    "\n",
    "Further, vessel three which seems to arrive many times to this port has the least load and discharge whilst focusing on ore, coal, and petroelum cargo types. "
   ]
  },
  {
   "cell_type": "code",
   "execution_count": 35,
   "metadata": {},
   "outputs": [
    {
     "data": {
      "text/html": [
       "<div>\n",
       "<style scoped>\n",
       "    .dataframe tbody tr th:only-of-type {\n",
       "        vertical-align: middle;\n",
       "    }\n",
       "\n",
       "    .dataframe tbody tr th {\n",
       "        vertical-align: top;\n",
       "    }\n",
       "\n",
       "    .dataframe thead th {\n",
       "        text-align: right;\n",
       "    }\n",
       "</style>\n",
       "<table border=\"1\" class=\"dataframe\">\n",
       "  <thead>\n",
       "    <tr style=\"text-align: right;\">\n",
       "      <th></th>\n",
       "      <th>vesseldwt</th>\n",
       "      <th>discharge1</th>\n",
       "      <th>load1</th>\n",
       "      <th>discharge2</th>\n",
       "      <th>load2</th>\n",
       "      <th>discharge3</th>\n",
       "      <th>load3</th>\n",
       "      <th>discharge4</th>\n",
       "      <th>load4</th>\n",
       "      <th>previousportid</th>\n",
       "      <th>nextportid</th>\n",
       "      <th>vesselid</th>\n",
       "    </tr>\n",
       "    <tr>\n",
       "      <th>traveltype</th>\n",
       "      <th></th>\n",
       "      <th></th>\n",
       "      <th></th>\n",
       "      <th></th>\n",
       "      <th></th>\n",
       "      <th></th>\n",
       "      <th></th>\n",
       "      <th></th>\n",
       "      <th></th>\n",
       "      <th></th>\n",
       "      <th></th>\n",
       "      <th></th>\n",
       "    </tr>\n",
       "  </thead>\n",
       "  <tbody>\n",
       "    <tr>\n",
       "      <th>0</th>\n",
       "      <td>44993.96</td>\n",
       "      <td>2312.88</td>\n",
       "      <td>74.66</td>\n",
       "      <td>1551.32</td>\n",
       "      <td>21.51</td>\n",
       "      <td>5658.31</td>\n",
       "      <td>15.3</td>\n",
       "      <td>1686.86</td>\n",
       "      <td>1383.17</td>\n",
       "      <td>369.94</td>\n",
       "      <td>374.87</td>\n",
       "      <td>4333.84</td>\n",
       "    </tr>\n",
       "    <tr>\n",
       "      <th>1</th>\n",
       "      <td>19352.89</td>\n",
       "      <td>206.73</td>\n",
       "      <td>24.17</td>\n",
       "      <td>162.30</td>\n",
       "      <td>13.81</td>\n",
       "      <td>2510.97</td>\n",
       "      <td>122.2</td>\n",
       "      <td>2173.04</td>\n",
       "      <td>1840.13</td>\n",
       "      <td>359.64</td>\n",
       "      <td>393.45</td>\n",
       "      <td>4342.39</td>\n",
       "    </tr>\n",
       "  </tbody>\n",
       "</table>\n",
       "</div>"
      ],
      "text/plain": [
       "            vesseldwt  discharge1  load1  discharge2  load2  discharge3  \\\n",
       "traveltype                                                                \n",
       "0            44993.96     2312.88  74.66     1551.32  21.51     5658.31   \n",
       "1            19352.89      206.73  24.17      162.30  13.81     2510.97   \n",
       "\n",
       "            load3  discharge4    load4  previousportid  nextportid  vesselid  \n",
       "traveltype                                                                    \n",
       "0            15.3     1686.86  1383.17          369.94      374.87   4333.84  \n",
       "1           122.2     2173.04  1840.13          359.64      393.45   4342.39  "
      ]
     },
     "execution_count": 35,
     "metadata": {},
     "output_type": "execute_result"
    }
   ],
   "source": [
    "round(df.groupby(['traveltype']).mean(),2)"
   ]
  },
  {
   "cell_type": "markdown",
   "metadata": {},
   "source": [
    "Not much could be inferred except for the fact that SHIFT travel type has a lower vessel deadweight tonnage compared to the ARRIVAL travel type. \n",
    "\n",
    "This could be furthered by combining both travel type and the vessel type in obtaining the summary of load, discharges and vessel deadweight."
   ]
  },
  {
   "cell_type": "markdown",
   "metadata": {},
   "source": [
    "Potentially creating columns and specifiying 1 based on type of discharge for each of the vessels would potentially be the next step."
   ]
  },
  {
   "cell_type": "code",
   "execution_count": null,
   "metadata": {},
   "outputs": [],
   "source": [
    "df of ore =np.where((df['vesseltype']=='2')&&(df['discharge1']> 0)|(df['load1']>0,1,0)\n",
    "df of coal =np.where((df['vesseltype']=='2')&&(df['discharge2']> 0)|(df['load2']>0,1,0)"
   ]
  },
  {
   "cell_type": "markdown",
   "metadata": {},
   "source": [
    "Similarly creating new columns based on inferences from previous analysis could be carried out. So each of those variables will also be categorical. "
   ]
  },
  {
   "cell_type": "markdown",
   "metadata": {},
   "source": [
    "##### Visualisations on date aspect"
   ]
  },
  {
   "cell_type": "markdown",
   "metadata": {},
   "source": [
    "To analyse whether weekday or weekend has a better total of load and discharge for any of the vessels. For that we might need to add another variable stating whether the day is a weekend or a weekday."
   ]
  },
  {
   "cell_type": "code",
   "execution_count": null,
   "metadata": {},
   "outputs": [],
   "source": [
    "df['weekday_eta'] = np.where((df['eta']).dt.dayofweek) < 5,0,1)"
   ]
  },
  {
   "cell_type": "markdown",
   "metadata": {},
   "source": [
    "We convert each of the datetime based on day of the week indexes and label them as 0 for weekday and 1 for weekend. If they are not categorical we convert them to categorical"
   ]
  },
  {
   "cell_type": "code",
   "execution_count": null,
   "metadata": {},
   "outputs": [],
   "source": [
    "df['weekday_eta'] = df['weekday_eta'].astype('category')"
   ]
  },
  {
   "cell_type": "markdown",
   "metadata": {},
   "source": [
    "We also create the weekday index like Sat = 0, Mon =1..... Sun = 6. Using those index, we plot the count of vesseltypes arrived based on arrival time, departure time & first entry to port. "
   ]
  },
  {
   "cell_type": "code",
   "execution_count": null,
   "metadata": {},
   "outputs": [],
   "source": [
    "df of column.value_counts().plot.bar()"
   ]
  },
  {
   "cell_type": "markdown",
   "metadata": {},
   "source": [
    "If a particular vessel has a higher quantity of load and discharges during weekend or weekday, that is another valuable insight for us to use in the model.\n",
    "\n",
    "Next is to analyse the total of load and discharge of vessels during weekdays and weekends. Average of weekday load and discharge is taken and compared to the weekends for.This is to obtain an understanding whether weekday or weekend paves way for higher load and discharge"
   ]
  },
  {
   "cell_type": "code",
   "execution_count": null,
   "metadata": {},
   "outputs": [],
   "source": [
    "groupby(created column for weekday or weekend).mean().boxplot()"
   ]
  },
  {
   "cell_type": "markdown",
   "metadata": {},
   "source": [
    "# Relationships between variables "
   ]
  },
  {
   "cell_type": "markdown",
   "metadata": {},
   "source": [
    "Finding relationship between different variables is required and to analyse how they are correlated with each other."
   ]
  },
  {
   "cell_type": "code",
   "execution_count": 36,
   "metadata": {},
   "outputs": [
    {
     "data": {
      "text/html": [
       "<div>\n",
       "<style scoped>\n",
       "    .dataframe tbody tr th:only-of-type {\n",
       "        vertical-align: middle;\n",
       "    }\n",
       "\n",
       "    .dataframe tbody tr th {\n",
       "        vertical-align: top;\n",
       "    }\n",
       "\n",
       "    .dataframe thead th {\n",
       "        text-align: right;\n",
       "    }\n",
       "</style>\n",
       "<table border=\"1\" class=\"dataframe\">\n",
       "  <thead>\n",
       "    <tr style=\"text-align: right;\">\n",
       "      <th></th>\n",
       "      <th>vesseldwt</th>\n",
       "      <th>discharge1</th>\n",
       "      <th>load1</th>\n",
       "      <th>discharge2</th>\n",
       "      <th>load2</th>\n",
       "      <th>discharge3</th>\n",
       "      <th>load3</th>\n",
       "      <th>discharge4</th>\n",
       "      <th>load4</th>\n",
       "      <th>previousportid</th>\n",
       "      <th>nextportid</th>\n",
       "      <th>vesselid</th>\n",
       "    </tr>\n",
       "  </thead>\n",
       "  <tbody>\n",
       "    <tr>\n",
       "      <th>vesseldwt</th>\n",
       "      <td>1.000000</td>\n",
       "      <td>0.256594</td>\n",
       "      <td>0.005130</td>\n",
       "      <td>0.197749</td>\n",
       "      <td>0.003393</td>\n",
       "      <td>0.463775</td>\n",
       "      <td>0.029530</td>\n",
       "      <td>0.112079</td>\n",
       "      <td>0.181058</td>\n",
       "      <td>0.176019</td>\n",
       "      <td>0.027413</td>\n",
       "      <td>0.192800</td>\n",
       "    </tr>\n",
       "    <tr>\n",
       "      <th>discharge1</th>\n",
       "      <td>0.256594</td>\n",
       "      <td>1.000000</td>\n",
       "      <td>0.005336</td>\n",
       "      <td>-0.010967</td>\n",
       "      <td>-0.003098</td>\n",
       "      <td>-0.020084</td>\n",
       "      <td>-0.001549</td>\n",
       "      <td>-0.019293</td>\n",
       "      <td>-0.013442</td>\n",
       "      <td>0.017623</td>\n",
       "      <td>0.027934</td>\n",
       "      <td>-0.013210</td>\n",
       "    </tr>\n",
       "    <tr>\n",
       "      <th>load1</th>\n",
       "      <td>0.005130</td>\n",
       "      <td>0.005336</td>\n",
       "      <td>1.000000</td>\n",
       "      <td>-0.004728</td>\n",
       "      <td>-0.001336</td>\n",
       "      <td>-0.008659</td>\n",
       "      <td>-0.000668</td>\n",
       "      <td>-0.008318</td>\n",
       "      <td>-0.005795</td>\n",
       "      <td>-0.004226</td>\n",
       "      <td>0.024620</td>\n",
       "      <td>0.028272</td>\n",
       "    </tr>\n",
       "    <tr>\n",
       "      <th>discharge2</th>\n",
       "      <td>0.197749</td>\n",
       "      <td>-0.010967</td>\n",
       "      <td>-0.004728</td>\n",
       "      <td>1.000000</td>\n",
       "      <td>-0.003006</td>\n",
       "      <td>-0.019484</td>\n",
       "      <td>-0.001503</td>\n",
       "      <td>-0.018717</td>\n",
       "      <td>-0.013041</td>\n",
       "      <td>0.065806</td>\n",
       "      <td>0.056500</td>\n",
       "      <td>-0.002809</td>\n",
       "    </tr>\n",
       "    <tr>\n",
       "      <th>load2</th>\n",
       "      <td>0.003393</td>\n",
       "      <td>-0.003098</td>\n",
       "      <td>-0.001336</td>\n",
       "      <td>-0.003006</td>\n",
       "      <td>1.000000</td>\n",
       "      <td>-0.005505</td>\n",
       "      <td>-0.000425</td>\n",
       "      <td>-0.005085</td>\n",
       "      <td>-0.003684</td>\n",
       "      <td>-0.000561</td>\n",
       "      <td>-0.002970</td>\n",
       "      <td>0.000839</td>\n",
       "    </tr>\n",
       "    <tr>\n",
       "      <th>discharge3</th>\n",
       "      <td>0.463775</td>\n",
       "      <td>-0.020084</td>\n",
       "      <td>-0.008659</td>\n",
       "      <td>-0.019484</td>\n",
       "      <td>-0.005505</td>\n",
       "      <td>1.000000</td>\n",
       "      <td>0.109965</td>\n",
       "      <td>-0.033696</td>\n",
       "      <td>0.198799</td>\n",
       "      <td>0.155226</td>\n",
       "      <td>0.068392</td>\n",
       "      <td>-0.084307</td>\n",
       "    </tr>\n",
       "    <tr>\n",
       "      <th>load3</th>\n",
       "      <td>0.029530</td>\n",
       "      <td>-0.001549</td>\n",
       "      <td>-0.000668</td>\n",
       "      <td>-0.001503</td>\n",
       "      <td>-0.000425</td>\n",
       "      <td>0.109965</td>\n",
       "      <td>1.000000</td>\n",
       "      <td>-0.002643</td>\n",
       "      <td>-0.001842</td>\n",
       "      <td>0.010336</td>\n",
       "      <td>0.008800</td>\n",
       "      <td>-0.008503</td>\n",
       "    </tr>\n",
       "    <tr>\n",
       "      <th>discharge4</th>\n",
       "      <td>0.112079</td>\n",
       "      <td>-0.019293</td>\n",
       "      <td>-0.008318</td>\n",
       "      <td>-0.018717</td>\n",
       "      <td>-0.005085</td>\n",
       "      <td>-0.033696</td>\n",
       "      <td>-0.002643</td>\n",
       "      <td>1.000000</td>\n",
       "      <td>0.022616</td>\n",
       "      <td>0.096285</td>\n",
       "      <td>0.046903</td>\n",
       "      <td>-0.034324</td>\n",
       "    </tr>\n",
       "    <tr>\n",
       "      <th>load4</th>\n",
       "      <td>0.181058</td>\n",
       "      <td>-0.013442</td>\n",
       "      <td>-0.005795</td>\n",
       "      <td>-0.013041</td>\n",
       "      <td>-0.003684</td>\n",
       "      <td>0.198799</td>\n",
       "      <td>-0.001842</td>\n",
       "      <td>0.022616</td>\n",
       "      <td>1.000000</td>\n",
       "      <td>0.022158</td>\n",
       "      <td>0.017705</td>\n",
       "      <td>0.026263</td>\n",
       "    </tr>\n",
       "    <tr>\n",
       "      <th>previousportid</th>\n",
       "      <td>0.176019</td>\n",
       "      <td>0.017623</td>\n",
       "      <td>-0.004226</td>\n",
       "      <td>0.065806</td>\n",
       "      <td>-0.000561</td>\n",
       "      <td>0.155226</td>\n",
       "      <td>0.010336</td>\n",
       "      <td>0.096285</td>\n",
       "      <td>0.022158</td>\n",
       "      <td>1.000000</td>\n",
       "      <td>0.124984</td>\n",
       "      <td>-0.018242</td>\n",
       "    </tr>\n",
       "    <tr>\n",
       "      <th>nextportid</th>\n",
       "      <td>0.027413</td>\n",
       "      <td>0.027934</td>\n",
       "      <td>0.024620</td>\n",
       "      <td>0.056500</td>\n",
       "      <td>-0.002970</td>\n",
       "      <td>0.068392</td>\n",
       "      <td>0.008800</td>\n",
       "      <td>0.046903</td>\n",
       "      <td>0.017705</td>\n",
       "      <td>0.124984</td>\n",
       "      <td>1.000000</td>\n",
       "      <td>-0.053144</td>\n",
       "    </tr>\n",
       "    <tr>\n",
       "      <th>vesselid</th>\n",
       "      <td>0.192800</td>\n",
       "      <td>-0.013210</td>\n",
       "      <td>0.028272</td>\n",
       "      <td>-0.002809</td>\n",
       "      <td>0.000839</td>\n",
       "      <td>-0.084307</td>\n",
       "      <td>-0.008503</td>\n",
       "      <td>-0.034324</td>\n",
       "      <td>0.026263</td>\n",
       "      <td>-0.018242</td>\n",
       "      <td>-0.053144</td>\n",
       "      <td>1.000000</td>\n",
       "    </tr>\n",
       "  </tbody>\n",
       "</table>\n",
       "</div>"
      ],
      "text/plain": [
       "                vesseldwt  discharge1     load1  discharge2     load2  \\\n",
       "vesseldwt        1.000000    0.256594  0.005130    0.197749  0.003393   \n",
       "discharge1       0.256594    1.000000  0.005336   -0.010967 -0.003098   \n",
       "load1            0.005130    0.005336  1.000000   -0.004728 -0.001336   \n",
       "discharge2       0.197749   -0.010967 -0.004728    1.000000 -0.003006   \n",
       "load2            0.003393   -0.003098 -0.001336   -0.003006  1.000000   \n",
       "discharge3       0.463775   -0.020084 -0.008659   -0.019484 -0.005505   \n",
       "load3            0.029530   -0.001549 -0.000668   -0.001503 -0.000425   \n",
       "discharge4       0.112079   -0.019293 -0.008318   -0.018717 -0.005085   \n",
       "load4            0.181058   -0.013442 -0.005795   -0.013041 -0.003684   \n",
       "previousportid   0.176019    0.017623 -0.004226    0.065806 -0.000561   \n",
       "nextportid       0.027413    0.027934  0.024620    0.056500 -0.002970   \n",
       "vesselid         0.192800   -0.013210  0.028272   -0.002809  0.000839   \n",
       "\n",
       "                discharge3     load3  discharge4     load4  previousportid  \\\n",
       "vesseldwt         0.463775  0.029530    0.112079  0.181058        0.176019   \n",
       "discharge1       -0.020084 -0.001549   -0.019293 -0.013442        0.017623   \n",
       "load1            -0.008659 -0.000668   -0.008318 -0.005795       -0.004226   \n",
       "discharge2       -0.019484 -0.001503   -0.018717 -0.013041        0.065806   \n",
       "load2            -0.005505 -0.000425   -0.005085 -0.003684       -0.000561   \n",
       "discharge3        1.000000  0.109965   -0.033696  0.198799        0.155226   \n",
       "load3             0.109965  1.000000   -0.002643 -0.001842        0.010336   \n",
       "discharge4       -0.033696 -0.002643    1.000000  0.022616        0.096285   \n",
       "load4             0.198799 -0.001842    0.022616  1.000000        0.022158   \n",
       "previousportid    0.155226  0.010336    0.096285  0.022158        1.000000   \n",
       "nextportid        0.068392  0.008800    0.046903  0.017705        0.124984   \n",
       "vesselid         -0.084307 -0.008503   -0.034324  0.026263       -0.018242   \n",
       "\n",
       "                nextportid  vesselid  \n",
       "vesseldwt         0.027413  0.192800  \n",
       "discharge1        0.027934 -0.013210  \n",
       "load1             0.024620  0.028272  \n",
       "discharge2        0.056500 -0.002809  \n",
       "load2            -0.002970  0.000839  \n",
       "discharge3        0.068392 -0.084307  \n",
       "load3             0.008800 -0.008503  \n",
       "discharge4        0.046903 -0.034324  \n",
       "load4             0.017705  0.026263  \n",
       "previousportid    0.124984 -0.018242  \n",
       "nextportid        1.000000 -0.053144  \n",
       "vesselid         -0.053144  1.000000  "
      ]
     },
     "execution_count": 36,
     "metadata": {},
     "output_type": "execute_result"
    }
   ],
   "source": [
    "df.corr()"
   ]
  },
  {
   "cell_type": "markdown",
   "metadata": {},
   "source": [
    "vessel deadweight tonnage seems to have a medium correlation with the discharges, with discharge 3 having the highest positive correlation. Analysing them a little more with scatterplots would also be an ideal way to get an understanding."
   ]
  },
  {
   "cell_type": "markdown",
   "metadata": {},
   "source": [
    "# Selecting variables for modelling"
   ]
  },
  {
   "cell_type": "markdown",
   "metadata": {},
   "source": [
    "Some of the variables would not be on the same scale. If that exists, standardising the variables is required here. Once the features are standardised, the next step is to select the variables."
   ]
  },
  {
   "cell_type": "code",
   "execution_count": 39,
   "metadata": {},
   "outputs": [
    {
     "data": {
      "image/png": "[encoded data removed]",
      "text/plain": [
       "<Figure size 864x720 with 2 Axes>"
      ]
     },
     "metadata": {
      "needs_background": "light"
     },
     "output_type": "display_data"
    }
   ],
   "source": [
    "plt.figure(figsize=(12,10))\n",
    "cor = df.corr()\n",
    "sns.heatmap(cor, annot=True, cmap=plt.cm.Reds)\n",
    "plt.show()"
   ]
  },
  {
   "cell_type": "markdown",
   "metadata": {},
   "source": [
    "Vesseldwt seems to be an interesting indicator for discharge 3 which especially is high for vessel 5. We could even label the model to make sense of vesset deadweight for vessel 5 alone by again categorising them. But, since it also has a moderate correlation with discharge1 we could use it upon standardising as it is."
   ]
  },
  {
   "cell_type": "markdown",
   "metadata": {},
   "source": [
    "In addition, there could be other categorical variables which we had developed based on analysis and visulisation. If those variables seem to be a good indicator which ofcourse was not seen in the above correlation map, we might be required to add them as a independent variable to the prediction model."
   ]
  },
  {
   "cell_type": "markdown",
   "metadata": {},
   "source": [
    "Upon selecting the necessary variables, it's time to have a Multiple Linear regression. This model, would however be built right at the start with the existing data without any feature engineering or analysis to compare it as a baseline model."
   ]
  },
  {
   "cell_type": "markdown",
   "metadata": {},
   "source": [
    "Clubbing both load and discharge would be required here as we are predicting the total of discharge and load per cargo type."
   ]
  },
  {
   "cell_type": "markdown",
   "metadata": {},
   "source": [
    "One limitation at this is stage is that the model could potentiall predict the total discharge and load, however it requires us to provide the value of the cargo type as an input."
   ]
  },
  {
   "cell_type": "markdown",
   "metadata": {},
   "source": [
    "# Building the model through train,test split method"
   ]
  },
  {
   "cell_type": "code",
   "execution_count": null,
   "metadata": {},
   "outputs": [],
   "source": [
    "X = (independent variables)\n",
    "Y = total of discharge and load\n",
    "regr = linear_model.LinearRegression()\n",
    "x_train, x_test,y_train,y_test=train_test_split(X,y,test_size =0.2, random_state=3)"
   ]
  },
  {
   "cell_type": "code",
   "execution_count": null,
   "metadata": {},
   "outputs": [],
   "source": [
    "regr.fit(x_train, y_train)"
   ]
  },
  {
   "cell_type": "markdown",
   "metadata": {},
   "source": [
    "At this stage we will be having the model obtained from train test. This model is evaluated with the test set which has been obtained from the previous step. We could use the MAE, MSE and R2 score for model evaluation. In general better the R2 score, better is the model's ability to predict the total discharge and load."
   ]
  },
  {
   "cell_type": "code",
   "execution_count": null,
   "metadata": {},
   "outputs": [],
   "source": [
    "test_yhat=regr.predict(x_test)\n",
    "print(\"MAE is %2f\"%np.mean(np.absolute(test_yhat - y_test)))\n",
    "print(\"Rw: %2f\"%r2_score(test_yhat,test_y)"
   ]
  },
  {
   "cell_type": "markdown",
   "metadata": {},
   "source": [
    "Based on the value obtained we ofcourse might be required to either increase the accuracy based on the standards we describe at the start. Further, it is necessary to understand this impact from a business metric perspective for our client. Comparing it with the costs would provide us a better way of evaluting whether the accuracy suits our client. \n",
    "\n",
    "Additionally, tuning the model from this stage based on variables or including ridge expressions to better the model might be required depending on the business outcome. \n",
    "\n",
    "Additionally, during the initial stages we could potentially include the stevedorenames also to analysis to get an understanding of any biases they create with respect to vessel numbers."
   ]
  },
  {
   "cell_type": "code",
   "execution_count": null,
   "metadata": {},
   "outputs": [],
   "source": []
  }
 ],
 "metadata": {
  "kernelspec": {
   "display_name": "Python 3",
   "language": "python",
   "name": "python3"
  },
  "language_info": {
   "codemirror_mode": {
    "name": "ipython",
    "version": 3
   },
   "file_extension": ".py",
   "mimetype": "text/x-python",
   "name": "python",
   "nbconvert_exporter": "python",
   "pygments_lexer": "ipython3",
   "version": "3.7.6"
  }
 },
 "nbformat": 4,
 "nbformat_minor": 4
}
